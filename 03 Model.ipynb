{
 "cells": [
  {
   "cell_type": "code",
   "execution_count": 2,
   "id": "0da21cf6",
   "metadata": {},
   "outputs": [],
   "source": [
    "import pandas as pd\n",
    "import numpy as np\n",
    "import sklearn.metrics as metrics\n",
    "import matplotlib.pyplot as plt\n",
    "\n",
    "from sklearn.ensemble import RandomForestClassifier, ExtraTreesClassifier\n",
    "from sklearn.model_selection import train_test_split, cross_val_score, GridSearchCV\n",
    "from sklearn.linear_model import LogisticRegression\n",
    "from sklearn.pipeline import Pipeline"
   ]
  },
  {
   "cell_type": "code",
   "execution_count": 3,
   "id": "65df8050",
   "metadata": {},
   "outputs": [],
   "source": [
    "df_at = pd.read_csv('./data/atp/Total.csv')\n",
    "df_ct = pd.read_csv('./data/challengers/Total.csv')\n",
    "df_cw = pd.read_csv('./data/challengers/win.csv')"
   ]
  },
  {
   "cell_type": "code",
   "execution_count": 4,
   "id": "d22493d6",
   "metadata": {},
   "outputs": [],
   "source": [
    "df_at.drop(columns='Unnamed: 0', inplace=True)\n",
    "df_ct.drop(columns='Unnamed: 0', inplace=True)"
   ]
  },
  {
   "cell_type": "code",
   "execution_count": 5,
   "id": "115e7f9f",
   "metadata": {},
   "outputs": [
    {
     "data": {
      "text/plain": [
       "(5286, 1999)"
      ]
     },
     "execution_count": 5,
     "metadata": {},
     "output_type": "execute_result"
    }
   ],
   "source": [
    "df_cw.shape"
   ]
  },
  {
   "cell_type": "code",
   "execution_count": 6,
   "id": "26ecce49",
   "metadata": {},
   "outputs": [],
   "source": [
    "df_cw = df_cw.rename(columns={'winner_name': 'player_name'})"
   ]
  },
  {
   "cell_type": "code",
   "execution_count": 7,
   "id": "ae3e9efc",
   "metadata": {
    "scrolled": true
   },
   "outputs": [],
   "source": [
    "df_final = pd.merge(df_cw, df_at[['player_name', 'win', 'total_win_percentage']], on='player_name', how='left')"
   ]
  },
  {
   "cell_type": "code",
   "execution_count": 8,
   "id": "5d2e12e0",
   "metadata": {
    "scrolled": true
   },
   "outputs": [
    {
     "name": "stderr",
     "output_type": "stream",
     "text": [
      "C:\\Users\\Henry\\AppData\\Local\\Temp/ipykernel_223480/2189794969.py:1: PerformanceWarning: DataFrame is highly fragmented.  This is usually the result of calling `frame.insert` many times, which has poor performance.  Consider joining all columns at once using pd.concat(axis=1) instead.  To get a de-fragmented frame, use `newframe = frame.copy()`\n",
      "  df_final['tour'] = 1\n"
     ]
    }
   ],
   "source": [
    "df_final['tour'] = 1"
   ]
  },
  {
   "cell_type": "code",
   "execution_count": 9,
   "id": "c9028f4f",
   "metadata": {},
   "outputs": [
    {
     "name": "stderr",
     "output_type": "stream",
     "text": [
      "C:\\Users\\Henry\\AppData\\Local\\Temp/ipykernel_223480/4221000129.py:4: SettingWithCopyWarning: \n",
      "A value is trying to be set on a copy of a slice from a DataFrame\n",
      "\n",
      "See the caveats in the documentation: https://pandas.pydata.org/pandas-docs/stable/user_guide/indexing.html#returning-a-view-versus-a-copy\n",
      "  df_final['tour'][i] = 0\n"
     ]
    }
   ],
   "source": [
    "# Set all pro Tour level as 0\n",
    "for i in df_final.index:\n",
    "    if df_final['total_win_percentage'][i] >= 0:\n",
    "        df_final['tour'][i] = 0"
   ]
  },
  {
   "cell_type": "code",
   "execution_count": 10,
   "id": "1b55aba5",
   "metadata": {},
   "outputs": [],
   "source": [
    "df_final.fillna(0, inplace=True)"
   ]
  },
  {
   "cell_type": "code",
   "execution_count": 11,
   "id": "a911583c",
   "metadata": {},
   "outputs": [
    {
     "data": {
      "text/plain": [
       "(5286, 2002)"
      ]
     },
     "execution_count": 11,
     "metadata": {},
     "output_type": "execute_result"
    }
   ],
   "source": [
    "df_final.shape"
   ]
  },
  {
   "cell_type": "code",
   "execution_count": 12,
   "id": "2b3e315f",
   "metadata": {
    "scrolled": false
   },
   "outputs": [
    {
     "data": {
      "text/html": [
       "<div>\n",
       "<style scoped>\n",
       "    .dataframe tbody tr th:only-of-type {\n",
       "        vertical-align: middle;\n",
       "    }\n",
       "\n",
       "    .dataframe tbody tr th {\n",
       "        vertical-align: top;\n",
       "    }\n",
       "\n",
       "    .dataframe thead th {\n",
       "        text-align: right;\n",
       "    }\n",
       "</style>\n",
       "<table border=\"1\" class=\"dataframe\">\n",
       "  <thead>\n",
       "    <tr style=\"text-align: right;\">\n",
       "      <th></th>\n",
       "      <th>player_name</th>\n",
       "      <th>ATP Challenger Tour Finals CH sum</th>\n",
       "      <th>ATP Challenger Tour Finals CH mean</th>\n",
       "      <th>Aachen CH sum</th>\n",
       "      <th>Aachen CH mean</th>\n",
       "      <th>Aarhus CH sum</th>\n",
       "      <th>Aarhus CH mean</th>\n",
       "      <th>Acapulco sum</th>\n",
       "      <th>Acapulco mean</th>\n",
       "      <th>Acapulco CH sum</th>\n",
       "      <th>...</th>\n",
       "      <th>surface_Carpet mean</th>\n",
       "      <th>surface_Clay sum</th>\n",
       "      <th>surface_Clay mean</th>\n",
       "      <th>surface_Grass sum</th>\n",
       "      <th>surface_Grass mean</th>\n",
       "      <th>surface_Hard sum</th>\n",
       "      <th>surface_Hard mean</th>\n",
       "      <th>win</th>\n",
       "      <th>total_win_percentage</th>\n",
       "      <th>tour</th>\n",
       "    </tr>\n",
       "  </thead>\n",
       "  <tbody>\n",
       "    <tr>\n",
       "      <th>0</th>\n",
       "      <td>A Aguilar</td>\n",
       "      <td>0</td>\n",
       "      <td>0.0</td>\n",
       "      <td>0</td>\n",
       "      <td>0.0</td>\n",
       "      <td>0</td>\n",
       "      <td>0.0</td>\n",
       "      <td>0</td>\n",
       "      <td>0.0</td>\n",
       "      <td>0</td>\n",
       "      <td>...</td>\n",
       "      <td>0.0</td>\n",
       "      <td>1.0</td>\n",
       "      <td>1.0</td>\n",
       "      <td>0</td>\n",
       "      <td>0.0</td>\n",
       "      <td>0.0</td>\n",
       "      <td>0.0</td>\n",
       "      <td>0.0</td>\n",
       "      <td>0.0</td>\n",
       "      <td>1</td>\n",
       "    </tr>\n",
       "  </tbody>\n",
       "</table>\n",
       "<p>1 rows × 2002 columns</p>\n",
       "</div>"
      ],
      "text/plain": [
       "  player_name  ATP Challenger Tour Finals CH sum  \\\n",
       "0   A Aguilar                                  0   \n",
       "\n",
       "   ATP Challenger Tour Finals CH mean  Aachen CH sum  Aachen CH mean  \\\n",
       "0                                 0.0              0             0.0   \n",
       "\n",
       "   Aarhus CH sum  Aarhus CH mean  Acapulco sum  Acapulco mean  \\\n",
       "0              0             0.0             0            0.0   \n",
       "\n",
       "   Acapulco CH sum  ...  surface_Carpet mean  surface_Clay sum  \\\n",
       "0                0  ...                  0.0               1.0   \n",
       "\n",
       "   surface_Clay mean  surface_Grass sum  surface_Grass mean  surface_Hard sum  \\\n",
       "0                1.0                  0                 0.0               0.0   \n",
       "\n",
       "   surface_Hard mean  win  total_win_percentage  tour  \n",
       "0                0.0  0.0                   0.0     1  \n",
       "\n",
       "[1 rows x 2002 columns]"
      ]
     },
     "execution_count": 12,
     "metadata": {},
     "output_type": "execute_result"
    }
   ],
   "source": [
    "df_final.head(1)"
   ]
  },
  {
   "cell_type": "markdown",
   "id": "7e6a842b",
   "metadata": {},
   "source": [
    "### Regression Model"
   ]
  },
  {
   "cell_type": "code",
   "execution_count": 12,
   "id": "822d9801",
   "metadata": {},
   "outputs": [],
   "source": [
    "X = df_final.drop(columns=['win', 'player_name', 'total_win_percentage', 'tour'])\n",
    "y = df_final['tour']\n",
    "X_train, X_test, y_train, y_test = train_test_split(X, y, random_state=42, stratify=y)"
   ]
  },
  {
   "cell_type": "code",
   "execution_count": 13,
   "id": "77de17a0",
   "metadata": {},
   "outputs": [
    {
     "data": {
      "text/plain": [
       "0    0.544147\n",
       "1    0.455853\n",
       "Name: tour, dtype: float64"
      ]
     },
     "execution_count": 13,
     "metadata": {},
     "output_type": "execute_result"
    }
   ],
   "source": [
    "y_train.value_counts(normalize=True)"
   ]
  },
  {
   "cell_type": "code",
   "execution_count": 14,
   "id": "32bcd4d9",
   "metadata": {},
   "outputs": [
    {
     "name": "stderr",
     "output_type": "stream",
     "text": [
      "C:\\Users\\Henry\\anaconda3\\lib\\site-packages\\sklearn\\linear_model\\_logistic.py:763: ConvergenceWarning: lbfgs failed to converge (status=1):\n",
      "STOP: TOTAL NO. of ITERATIONS REACHED LIMIT.\n",
      "\n",
      "Increase the number of iterations (max_iter) or scale the data as shown in:\n",
      "    https://scikit-learn.org/stable/modules/preprocessing.html\n",
      "Please also refer to the documentation for alternative solver options:\n",
      "    https://scikit-learn.org/stable/modules/linear_model.html#logistic-regression\n",
      "  n_iter_i = _check_optimize_result(\n"
     ]
    },
    {
     "data": {
      "text/plain": [
       "LogisticRegression()"
      ]
     },
     "execution_count": 14,
     "metadata": {},
     "output_type": "execute_result"
    }
   ],
   "source": [
    "logreg = LogisticRegression()\n",
    "logreg.fit(X_train, y_train)"
   ]
  },
  {
   "cell_type": "code",
   "execution_count": 15,
   "id": "888401fd",
   "metadata": {},
   "outputs": [
    {
     "data": {
      "text/plain": [
       "(0.91372351160444, 0.840393343419062)"
      ]
     },
     "execution_count": 15,
     "metadata": {},
     "output_type": "execute_result"
    }
   ],
   "source": [
    "logreg.score(X_train, y_train), logreg.score(X_test, y_test) "
   ]
  },
  {
   "cell_type": "code",
   "execution_count": 16,
   "id": "8281fa71",
   "metadata": {
    "scrolled": false
   },
   "outputs": [
    {
     "name": "stderr",
     "output_type": "stream",
     "text": [
      "C:\\Users\\Henry\\anaconda3\\lib\\site-packages\\sklearn\\linear_model\\_logistic.py:763: ConvergenceWarning: lbfgs failed to converge (status=1):\n",
      "STOP: TOTAL NO. of ITERATIONS REACHED LIMIT.\n",
      "\n",
      "Increase the number of iterations (max_iter) or scale the data as shown in:\n",
      "    https://scikit-learn.org/stable/modules/preprocessing.html\n",
      "Please also refer to the documentation for alternative solver options:\n",
      "    https://scikit-learn.org/stable/modules/linear_model.html#logistic-regression\n",
      "  n_iter_i = _check_optimize_result(\n",
      "C:\\Users\\Henry\\anaconda3\\lib\\site-packages\\sklearn\\linear_model\\_logistic.py:763: ConvergenceWarning: lbfgs failed to converge (status=1):\n",
      "STOP: TOTAL NO. of ITERATIONS REACHED LIMIT.\n",
      "\n",
      "Increase the number of iterations (max_iter) or scale the data as shown in:\n",
      "    https://scikit-learn.org/stable/modules/preprocessing.html\n",
      "Please also refer to the documentation for alternative solver options:\n",
      "    https://scikit-learn.org/stable/modules/linear_model.html#logistic-regression\n",
      "  n_iter_i = _check_optimize_result(\n",
      "C:\\Users\\Henry\\anaconda3\\lib\\site-packages\\sklearn\\linear_model\\_logistic.py:763: ConvergenceWarning: lbfgs failed to converge (status=1):\n",
      "STOP: TOTAL NO. of ITERATIONS REACHED LIMIT.\n",
      "\n",
      "Increase the number of iterations (max_iter) or scale the data as shown in:\n",
      "    https://scikit-learn.org/stable/modules/preprocessing.html\n",
      "Please also refer to the documentation for alternative solver options:\n",
      "    https://scikit-learn.org/stable/modules/linear_model.html#logistic-regression\n",
      "  n_iter_i = _check_optimize_result(\n",
      "C:\\Users\\Henry\\anaconda3\\lib\\site-packages\\sklearn\\linear_model\\_logistic.py:763: ConvergenceWarning: lbfgs failed to converge (status=1):\n",
      "STOP: TOTAL NO. of ITERATIONS REACHED LIMIT.\n",
      "\n",
      "Increase the number of iterations (max_iter) or scale the data as shown in:\n",
      "    https://scikit-learn.org/stable/modules/preprocessing.html\n",
      "Please also refer to the documentation for alternative solver options:\n",
      "    https://scikit-learn.org/stable/modules/linear_model.html#logistic-regression\n",
      "  n_iter_i = _check_optimize_result(\n",
      "C:\\Users\\Henry\\anaconda3\\lib\\site-packages\\sklearn\\linear_model\\_logistic.py:763: ConvergenceWarning: lbfgs failed to converge (status=1):\n",
      "STOP: TOTAL NO. of ITERATIONS REACHED LIMIT.\n",
      "\n",
      "Increase the number of iterations (max_iter) or scale the data as shown in:\n",
      "    https://scikit-learn.org/stable/modules/preprocessing.html\n",
      "Please also refer to the documentation for alternative solver options:\n",
      "    https://scikit-learn.org/stable/modules/linear_model.html#logistic-regression\n",
      "  n_iter_i = _check_optimize_result(\n"
     ]
    },
    {
     "data": {
      "text/plain": [
       "0.8360286343892902"
      ]
     },
     "execution_count": 16,
     "metadata": {},
     "output_type": "execute_result"
    }
   ],
   "source": [
    "cross_val_score(logreg, X_train, y_train).mean()"
   ]
  },
  {
   "cell_type": "code",
   "execution_count": 17,
   "id": "f6954c61",
   "metadata": {},
   "outputs": [
    {
     "name": "stderr",
     "output_type": "stream",
     "text": [
      "C:\\Users\\Henry\\anaconda3\\lib\\site-packages\\sklearn\\linear_model\\_logistic.py:763: ConvergenceWarning: lbfgs failed to converge (status=1):\n",
      "STOP: TOTAL NO. of ITERATIONS REACHED LIMIT.\n",
      "\n",
      "Increase the number of iterations (max_iter) or scale the data as shown in:\n",
      "    https://scikit-learn.org/stable/modules/preprocessing.html\n",
      "Please also refer to the documentation for alternative solver options:\n",
      "    https://scikit-learn.org/stable/modules/linear_model.html#logistic-regression\n",
      "  n_iter_i = _check_optimize_result(\n",
      "C:\\Users\\Henry\\anaconda3\\lib\\site-packages\\sklearn\\linear_model\\_logistic.py:763: ConvergenceWarning: lbfgs failed to converge (status=1):\n",
      "STOP: TOTAL NO. of ITERATIONS REACHED LIMIT.\n",
      "\n",
      "Increase the number of iterations (max_iter) or scale the data as shown in:\n",
      "    https://scikit-learn.org/stable/modules/preprocessing.html\n",
      "Please also refer to the documentation for alternative solver options:\n",
      "    https://scikit-learn.org/stable/modules/linear_model.html#logistic-regression\n",
      "  n_iter_i = _check_optimize_result(\n",
      "C:\\Users\\Henry\\anaconda3\\lib\\site-packages\\sklearn\\linear_model\\_logistic.py:763: ConvergenceWarning: lbfgs failed to converge (status=1):\n",
      "STOP: TOTAL NO. of ITERATIONS REACHED LIMIT.\n",
      "\n",
      "Increase the number of iterations (max_iter) or scale the data as shown in:\n",
      "    https://scikit-learn.org/stable/modules/preprocessing.html\n",
      "Please also refer to the documentation for alternative solver options:\n",
      "    https://scikit-learn.org/stable/modules/linear_model.html#logistic-regression\n",
      "  n_iter_i = _check_optimize_result(\n",
      "C:\\Users\\Henry\\anaconda3\\lib\\site-packages\\sklearn\\linear_model\\_logistic.py:763: ConvergenceWarning: lbfgs failed to converge (status=1):\n",
      "STOP: TOTAL NO. of ITERATIONS REACHED LIMIT.\n",
      "\n",
      "Increase the number of iterations (max_iter) or scale the data as shown in:\n",
      "    https://scikit-learn.org/stable/modules/preprocessing.html\n",
      "Please also refer to the documentation for alternative solver options:\n",
      "    https://scikit-learn.org/stable/modules/linear_model.html#logistic-regression\n",
      "  n_iter_i = _check_optimize_result(\n",
      "C:\\Users\\Henry\\anaconda3\\lib\\site-packages\\sklearn\\linear_model\\_logistic.py:763: ConvergenceWarning: lbfgs failed to converge (status=1):\n",
      "STOP: TOTAL NO. of ITERATIONS REACHED LIMIT.\n",
      "\n",
      "Increase the number of iterations (max_iter) or scale the data as shown in:\n",
      "    https://scikit-learn.org/stable/modules/preprocessing.html\n",
      "Please also refer to the documentation for alternative solver options:\n",
      "    https://scikit-learn.org/stable/modules/linear_model.html#logistic-regression\n",
      "  n_iter_i = _check_optimize_result(\n"
     ]
    },
    {
     "data": {
      "text/plain": [
       "0.8071126357918811"
      ]
     },
     "execution_count": 17,
     "metadata": {},
     "output_type": "execute_result"
    }
   ],
   "source": [
    "cross_val_score(logreg, X_test, y_test).mean()"
   ]
  },
  {
   "cell_type": "markdown",
   "id": "a9f24534",
   "metadata": {},
   "source": [
    "---"
   ]
  },
  {
   "cell_type": "markdown",
   "id": "089829f2",
   "metadata": {},
   "source": [
    "### RF Model with All Features"
   ]
  },
  {
   "cell_type": "code",
   "execution_count": 12,
   "id": "a5c23e8d",
   "metadata": {},
   "outputs": [],
   "source": [
    "X = df_final.drop(columns=['win', 'player_name', 'total_win_percentage', 'tour'])\n",
    "y = df_final['tour']\n",
    "X_train, X_test, y_train, y_test = train_test_split(X, y, random_state=42, stratify=y)"
   ]
  },
  {
   "cell_type": "code",
   "execution_count": 13,
   "id": "310c1595",
   "metadata": {},
   "outputs": [
    {
     "data": {
      "text/plain": [
       "0    0.544268\n",
       "1    0.455732\n",
       "Name: tour, dtype: float64"
      ]
     },
     "execution_count": 13,
     "metadata": {},
     "output_type": "execute_result"
    }
   ],
   "source": [
    "y.value_counts(normalize=True)  # Baseline"
   ]
  },
  {
   "cell_type": "code",
   "execution_count": 14,
   "id": "d22da9f4",
   "metadata": {},
   "outputs": [],
   "source": [
    "rf = RandomForestClassifier(random_state=42)\n",
    "et = ExtraTreesClassifier(random_state=42)"
   ]
  },
  {
   "cell_type": "code",
   "execution_count": 15,
   "id": "a15f06b1",
   "metadata": {},
   "outputs": [
    {
     "data": {
      "text/plain": [
       "(0.8284579719005949, 0.826187155285516)"
      ]
     },
     "execution_count": 15,
     "metadata": {},
     "output_type": "execute_result"
    }
   ],
   "source": [
    "cross_val_score(rf, X_train, y_train).mean(), cross_val_score(et, X_train, y_train).mean()"
   ]
  },
  {
   "cell_type": "code",
   "execution_count": 16,
   "id": "94766b3c",
   "metadata": {},
   "outputs": [],
   "source": [
    "rf_pipe = Pipeline([\n",
    "    ('rf', RandomForestClassifier())\n",
    "])"
   ]
  },
  {
   "cell_type": "code",
   "execution_count": 17,
   "id": "f3b308ee",
   "metadata": {},
   "outputs": [],
   "source": [
    "params = {\n",
    "    'rf__random_state': [42],\n",
    "    'rf__n_estimators': [200, 210, 220],\n",
    "    'rf__max_depth': [60, 65, 70, 75, 80]\n",
    "}"
   ]
  },
  {
   "cell_type": "code",
   "execution_count": 18,
   "id": "52feecb8",
   "metadata": {},
   "outputs": [
    {
     "name": "stdout",
     "output_type": "stream",
     "text": [
      "0.8352685110881832\n"
     ]
    },
    {
     "data": {
      "text/plain": [
       "{'rf__max_depth': 70, 'rf__n_estimators': 210, 'rf__random_state': 42}"
      ]
     },
     "execution_count": 18,
     "metadata": {},
     "output_type": "execute_result"
    }
   ],
   "source": [
    "gs = GridSearchCV(rf_pipe, param_grid=params)\n",
    "gs.fit(X_train, y_train)\n",
    "print(gs.best_score_)\n",
    "gs.best_params_"
   ]
  },
  {
   "cell_type": "code",
   "execution_count": 19,
   "id": "a168a674",
   "metadata": {},
   "outputs": [
    {
     "data": {
      "image/png": "[encoded data removed]",
      "text/plain": [
       "<Figure size 432x288 with 2 Axes>"
      ]
     },
     "metadata": {
      "needs_background": "light"
     },
     "output_type": "display_data"
    },
    {
     "data": {
      "text/plain": [
       "<Figure size 432x288 with 0 Axes>"
      ]
     },
     "metadata": {},
     "output_type": "display_data"
    }
   ],
   "source": [
    "cm = metrics.plot_confusion_matrix(gs, X_test, y_test, display_labels=['Tour', 'No Tour'], cmap='Blues')\n",
    "plt.show(cm)\n",
    "plt.savefig('./images/cm_1.png', bbox_inches='tight')"
   ]
  },
  {
   "cell_type": "markdown",
   "id": "ddccd987",
   "metadata": {},
   "source": [
    "True Possitive vs True Negative\n",
    "\n",
    "575 vs 514"
   ]
  },
  {
   "cell_type": "markdown",
   "id": "058f3bc3",
   "metadata": {},
   "source": [
    "---"
   ]
  },
  {
   "cell_type": "markdown",
   "id": "46ffb2c2",
   "metadata": {},
   "source": [
    "### Model with Only Total Win/Lost Features"
   ]
  },
  {
   "cell_type": "code",
   "execution_count": 14,
   "id": "12032be9",
   "metadata": {},
   "outputs": [],
   "source": [
    "df_merged = pd.merge(df_ct, df_at[['player_name', 'total_win_percentage']], on='player_name', how='left')"
   ]
  },
  {
   "cell_type": "code",
   "execution_count": 15,
   "id": "386ba786",
   "metadata": {},
   "outputs": [],
   "source": [
    "df_merged['tour'] = 1"
   ]
  },
  {
   "cell_type": "code",
   "execution_count": 16,
   "id": "95b8b030",
   "metadata": {},
   "outputs": [
    {
     "name": "stderr",
     "output_type": "stream",
     "text": [
      "C:\\Users\\Henry\\AppData\\Local\\Temp/ipykernel_223480/3567967541.py:4: SettingWithCopyWarning: \n",
      "A value is trying to be set on a copy of a slice from a DataFrame\n",
      "\n",
      "See the caveats in the documentation: https://pandas.pydata.org/pandas-docs/stable/user_guide/indexing.html#returning-a-view-versus-a-copy\n",
      "  df_merged['tour'][i] = 0\n"
     ]
    }
   ],
   "source": [
    "# Set all pro Tour level as 0\n",
    "for i in df_merged.index:\n",
    "    if df_merged['total_win_percentage_y'][i] >= 0:\n",
    "        df_merged['tour'][i] = 0"
   ]
  },
  {
   "cell_type": "code",
   "execution_count": 17,
   "id": "a0cb2d0f",
   "metadata": {},
   "outputs": [],
   "source": [
    "df_merged.fillna(0, inplace=True)"
   ]
  },
  {
   "cell_type": "code",
   "execution_count": 18,
   "id": "2fd7a1a5",
   "metadata": {},
   "outputs": [
    {
     "data": {
      "text/plain": [
       "(9316, 8)"
      ]
     },
     "execution_count": 18,
     "metadata": {},
     "output_type": "execute_result"
    }
   ],
   "source": [
    "df_merged.shape"
   ]
  },
  {
   "cell_type": "markdown",
   "id": "a75a06cc",
   "metadata": {},
   "source": [
    "### Regression Model"
   ]
  },
  {
   "cell_type": "code",
   "execution_count": 19,
   "id": "7354f4c6",
   "metadata": {},
   "outputs": [],
   "source": [
    "features = ['win', 'lost']\n",
    "X = df_merged[features]\n",
    "y = df_merged['tour']\n",
    "X_train, X_test, y_train, y_test = train_test_split(X, y, random_state=42, stratify=y)"
   ]
  },
  {
   "cell_type": "code",
   "execution_count": 20,
   "id": "c0c98f46",
   "metadata": {
    "scrolled": true
   },
   "outputs": [
    {
     "data": {
      "text/plain": [
       "1    0.662516\n",
       "0    0.337484\n",
       "Name: tour, dtype: float64"
      ]
     },
     "execution_count": 20,
     "metadata": {},
     "output_type": "execute_result"
    }
   ],
   "source": [
    "y.value_counts(normalize=True)  # Baseline"
   ]
  },
  {
   "cell_type": "code",
   "execution_count": 21,
   "id": "5c47147c",
   "metadata": {},
   "outputs": [
    {
     "data": {
      "text/plain": [
       "LogisticRegression()"
      ]
     },
     "execution_count": 21,
     "metadata": {},
     "output_type": "execute_result"
    }
   ],
   "source": [
    "logreg = LogisticRegression()\n",
    "logreg.fit(X_train, y_train)"
   ]
  },
  {
   "cell_type": "code",
   "execution_count": 22,
   "id": "a9e41b97",
   "metadata": {},
   "outputs": [
    {
     "data": {
      "text/plain": [
       "(0.829683698296837, 0.8299699441820524)"
      ]
     },
     "execution_count": 22,
     "metadata": {},
     "output_type": "execute_result"
    }
   ],
   "source": [
    "logreg.score(X_train, y_train), logreg.score(X_test, y_test) "
   ]
  },
  {
   "cell_type": "code",
   "execution_count": 23,
   "id": "7feddfdd",
   "metadata": {},
   "outputs": [
    {
     "data": {
      "text/plain": [
       "0.8299691859625623"
      ]
     },
     "execution_count": 23,
     "metadata": {},
     "output_type": "execute_result"
    }
   ],
   "source": [
    "cross_val_score(logreg, X_train, y_train).mean()"
   ]
  },
  {
   "cell_type": "code",
   "execution_count": 24,
   "id": "4d118dda",
   "metadata": {},
   "outputs": [
    {
     "data": {
      "text/plain": [
       "0.8291162490193363"
      ]
     },
     "execution_count": 24,
     "metadata": {},
     "output_type": "execute_result"
    }
   ],
   "source": [
    "cross_val_score(logreg, X_test, y_test).mean()"
   ]
  },
  {
   "cell_type": "code",
   "execution_count": 25,
   "id": "6ac775f9",
   "metadata": {},
   "outputs": [
    {
     "data": {
      "image/png": "[encoded data removed]",
      "text/plain": [
       "<Figure size 432x288 with 1 Axes>"
      ]
     },
     "metadata": {
      "needs_background": "light"
     },
     "output_type": "display_data"
    }
   ],
   "source": [
    "metrics.plot_roc_curve(logreg, X_test, y_test)\n",
    "plt.plot([0,1], [0,1], label='Baseline')\n",
    "plt.legend();"
   ]
  },
  {
   "cell_type": "code",
   "execution_count": 26,
   "id": "894bcf37",
   "metadata": {},
   "outputs": [
    {
     "data": {
      "text/plain": [
       "0.8598385716335284"
      ]
     },
     "execution_count": 26,
     "metadata": {},
     "output_type": "execute_result"
    }
   ],
   "source": [
    "metrics.roc_auc_score(y_test, logreg.predict_proba(X_test)[:, 1])"
   ]
  },
  {
   "cell_type": "markdown",
   "id": "5849f35e",
   "metadata": {},
   "source": [
    "### RF Model"
   ]
  },
  {
   "cell_type": "code",
   "execution_count": 27,
   "id": "9c3c2777",
   "metadata": {},
   "outputs": [],
   "source": [
    "rf = RandomForestClassifier(random_state=42)\n",
    "et = ExtraTreesClassifier(random_state=42)"
   ]
  },
  {
   "cell_type": "code",
   "execution_count": 28,
   "id": "bb8bb7c4",
   "metadata": {},
   "outputs": [
    {
     "data": {
      "text/plain": [
       "(0.8263926480512606, 0.8266790783028828)"
      ]
     },
     "execution_count": 28,
     "metadata": {},
     "output_type": "execute_result"
    }
   ],
   "source": [
    "cross_val_score(rf, X_train, y_train).mean(), cross_val_score(et, X_train, y_train).mean()"
   ]
  },
  {
   "cell_type": "code",
   "execution_count": 29,
   "id": "2dad3816",
   "metadata": {},
   "outputs": [],
   "source": [
    "rf_pipe = Pipeline([\n",
    "    ('rf', RandomForestClassifier())\n",
    "])"
   ]
  },
  {
   "cell_type": "code",
   "execution_count": 33,
   "id": "932486af",
   "metadata": {},
   "outputs": [],
   "source": [
    "params = {\n",
    "    'rf__random_state': [42],\n",
    "    'rf__n_estimators': [200, 210, 220],\n",
    "    'rf__max_depth': [4, 5, 6, 7, 8]\n",
    "}"
   ]
  },
  {
   "cell_type": "code",
   "execution_count": 34,
   "id": "b4912475",
   "metadata": {},
   "outputs": [
    {
     "name": "stdout",
     "output_type": "stream",
     "text": [
      "0.8435646383062828\n"
     ]
    },
    {
     "data": {
      "text/plain": [
       "{'rf__max_depth': 6, 'rf__n_estimators': 210, 'rf__random_state': 42}"
      ]
     },
     "execution_count": 34,
     "metadata": {},
     "output_type": "execute_result"
    }
   ],
   "source": [
    "gs = GridSearchCV(rf_pipe, param_grid=params)\n",
    "gs.fit(X_train, y_train)\n",
    "print(gs.best_score_)\n",
    "gs.best_params_"
   ]
  },
  {
   "cell_type": "code",
   "execution_count": 35,
   "id": "91784cad",
   "metadata": {},
   "outputs": [
    {
     "data": {
      "image/png": "[encoded data removed]",
      "text/plain": [
       "<Figure size 432x288 with 2 Axes>"
      ]
     },
     "metadata": {
      "needs_background": "light"
     },
     "output_type": "display_data"
    },
    {
     "data": {
      "text/plain": [
       "<Figure size 432x288 with 0 Axes>"
      ]
     },
     "metadata": {},
     "output_type": "display_data"
    }
   ],
   "source": [
    "cm = metrics.plot_confusion_matrix(gs, X_test, y_test, display_labels=['Tour', 'No Tour'])\n",
    "plt.show(cm)\n",
    "plt.savefig('./images/cm_2.png', bbox_inches='tight')"
   ]
  },
  {
   "cell_type": "markdown",
   "id": "c866ddba",
   "metadata": {},
   "source": [
    "True Possitive vs True Negative\n",
    "\n",
    "542 vs 1416"
   ]
  },
  {
   "cell_type": "code",
   "execution_count": null,
   "id": "d38107af",
   "metadata": {},
   "outputs": [],
   "source": []
  },
  {
   "cell_type": "markdown",
   "id": "d675331d",
   "metadata": {},
   "source": [
    "Logistic Regression seems to produce a slightly better results"
   ]
  },
  {
   "cell_type": "markdown",
   "id": "402a3bbf",
   "metadata": {},
   "source": [
    "---"
   ]
  }
 ],
 "metadata": {
  "kernelspec": {
   "display_name": "Python 3 (ipykernel)",
   "language": "python",
   "name": "python3"
  },
  "language_info": {
   "codemirror_mode": {
    "name": "ipython",
    "version": 3
   },
   "file_extension": ".py",
   "mimetype": "text/x-python",
   "name": "python",
   "nbconvert_exporter": "python",
   "pygments_lexer": "ipython3",
   "version": "3.9.7"
  }
 },
 "nbformat": 4,
 "nbformat_minor": 5
}
