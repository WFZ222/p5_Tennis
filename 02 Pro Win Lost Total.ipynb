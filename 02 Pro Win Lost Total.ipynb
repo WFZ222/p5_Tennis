{
 "cells": [
  {
   "cell_type": "code",
   "execution_count": 1,
   "id": "072811ce",
   "metadata": {},
   "outputs": [],
   "source": [
    "import pandas as pd"
   ]
  },
  {
   "cell_type": "code",
   "execution_count": 2,
   "id": "d63d53d6",
   "metadata": {},
   "outputs": [],
   "source": [
    "df_aw = pd.read_csv('./data/atp/win.csv') # atp tour wins\n",
    "df_al = pd.read_csv('./data/atp/lost.csv') # atp tour losts"
   ]
  },
  {
   "cell_type": "code",
   "execution_count": 3,
   "id": "b9c2f882",
   "metadata": {},
   "outputs": [],
   "source": [
    "# change all '_name' columns to 'player_name'\n",
    "df_aw = df_aw.rename(columns={'winner_name': 'player_name'})\n",
    "df_al = df_al.rename(columns={'loser_name': 'player_name'})"
   ]
  },
  {
   "cell_type": "markdown",
   "id": "6da224fe",
   "metadata": {},
   "source": [
    "### Total Tour Win"
   ]
  },
  {
   "cell_type": "code",
   "execution_count": 4,
   "id": "434c100f",
   "metadata": {},
   "outputs": [
    {
     "data": {
      "text/plain": [
       "((2764, 905), (4839, 905))"
      ]
     },
     "execution_count": 4,
     "metadata": {},
     "output_type": "execute_result"
    }
   ],
   "source": [
    "df_aw.shape, df_al.shape"
   ]
  },
  {
   "cell_type": "code",
   "execution_count": 5,
   "id": "e06dc762",
   "metadata": {},
   "outputs": [],
   "source": [
    "df_a_total = pd.DataFrame() # create empty dataframe"
   ]
  },
  {
   "cell_type": "code",
   "execution_count": 6,
   "id": "035e0ea6",
   "metadata": {},
   "outputs": [],
   "source": [
    "df_a_total['player_name'] = df_aw['player_name']"
   ]
  },
  {
   "cell_type": "code",
   "execution_count": 7,
   "id": "e7df25ea",
   "metadata": {},
   "outputs": [
    {
     "name": "stderr",
     "output_type": "stream",
     "text": [
      "C:\\Users\\Henry\\AppData\\Local\\Temp/ipykernel_176500/3972179635.py:3: PerformanceWarning: DataFrame is highly fragmented.  This is usually the result of calling `frame.insert` many times, which has poor performance.  Consider joining all columns at once using pd.concat(axis=1) instead.  To get a de-fragmented frame, use `newframe = frame.copy()`\n",
      "  df_a_total[i] = df_aw[i]\n"
     ]
    }
   ],
   "source": [
    "for i in df_aw.columns:\n",
    "    if ('surface' not in i) & ('sum' in i):\n",
    "        df_a_total[i] = df_aw[i]"
   ]
  },
  {
   "cell_type": "code",
   "execution_count": 8,
   "id": "16cf7fcb",
   "metadata": {},
   "outputs": [
    {
     "name": "stderr",
     "output_type": "stream",
     "text": [
      "C:\\Users\\Henry\\AppData\\Local\\Temp/ipykernel_176500/368061925.py:1: FutureWarning: Dropping of nuisance columns in DataFrame reductions (with 'numeric_only=None') is deprecated; in a future version this will raise TypeError.  Select only valid columns before calling the reduction.\n",
      "  df_a_total['win'] = df_a_total.sum(axis=1)\n"
     ]
    }
   ],
   "source": [
    "df_a_total['win'] = df_a_total.sum(axis=1)"
   ]
  },
  {
   "cell_type": "code",
   "execution_count": 9,
   "id": "6b7a348f",
   "metadata": {},
   "outputs": [],
   "source": [
    "df_final = pd.DataFrame()"
   ]
  },
  {
   "cell_type": "code",
   "execution_count": 10,
   "id": "e26092c5",
   "metadata": {},
   "outputs": [],
   "source": [
    "df_final['player_name'] = df_al['player_name']"
   ]
  },
  {
   "cell_type": "code",
   "execution_count": 11,
   "id": "40d63be8",
   "metadata": {},
   "outputs": [],
   "source": [
    "df_final = pd.merge(df_final, df_a_total[['player_name', 'win']], on='player_name', how='left')"
   ]
  },
  {
   "cell_type": "markdown",
   "id": "89773abc",
   "metadata": {},
   "source": [
    "### Total Tour Lost"
   ]
  },
  {
   "cell_type": "code",
   "execution_count": 12,
   "id": "5085b264",
   "metadata": {},
   "outputs": [],
   "source": [
    "df_b_total = pd.DataFrame() # create empty dataframe"
   ]
  },
  {
   "cell_type": "code",
   "execution_count": 13,
   "id": "c5f7ebb5",
   "metadata": {},
   "outputs": [],
   "source": [
    "df_b_total['player_name'] = df_al['player_name']"
   ]
  },
  {
   "cell_type": "code",
   "execution_count": 14,
   "id": "4768decf",
   "metadata": {
    "scrolled": true
   },
   "outputs": [
    {
     "name": "stderr",
     "output_type": "stream",
     "text": [
      "C:\\Users\\Henry\\AppData\\Local\\Temp/ipykernel_176500/68560479.py:3: PerformanceWarning: DataFrame is highly fragmented.  This is usually the result of calling `frame.insert` many times, which has poor performance.  Consider joining all columns at once using pd.concat(axis=1) instead.  To get a de-fragmented frame, use `newframe = frame.copy()`\n",
      "  df_b_total[i] = df_al[i]\n"
     ]
    }
   ],
   "source": [
    "for i in df_al.columns:\n",
    "        if ('surface' not in i) and ('sum' in i):\n",
    "            df_b_total[i] = df_al[i]"
   ]
  },
  {
   "cell_type": "code",
   "execution_count": 15,
   "id": "59b8af07",
   "metadata": {},
   "outputs": [
    {
     "name": "stderr",
     "output_type": "stream",
     "text": [
      "C:\\Users\\Henry\\AppData\\Local\\Temp/ipykernel_176500/3844482385.py:1: FutureWarning: Dropping of nuisance columns in DataFrame reductions (with 'numeric_only=None') is deprecated; in a future version this will raise TypeError.  Select only valid columns before calling the reduction.\n",
      "  df_b_total['lost'] = df_b_total.sum(axis=1)\n"
     ]
    }
   ],
   "source": [
    "df_b_total['lost'] = df_b_total.sum(axis=1)"
   ]
  },
  {
   "cell_type": "code",
   "execution_count": 16,
   "id": "0006f588",
   "metadata": {},
   "outputs": [],
   "source": [
    "df_final = pd.merge(df_final, df_b_total[['player_name', 'lost']], on='player_name', how='left')"
   ]
  },
  {
   "cell_type": "markdown",
   "id": "d1f0609d",
   "metadata": {},
   "source": [
    "### Total Match played and avg win"
   ]
  },
  {
   "cell_type": "code",
   "execution_count": 17,
   "id": "e677758b",
   "metadata": {
    "scrolled": false
   },
   "outputs": [
    {
     "data": {
      "text/html": [
       "<div>\n",
       "<style scoped>\n",
       "    .dataframe tbody tr th:only-of-type {\n",
       "        vertical-align: middle;\n",
       "    }\n",
       "\n",
       "    .dataframe tbody tr th {\n",
       "        vertical-align: top;\n",
       "    }\n",
       "\n",
       "    .dataframe thead th {\n",
       "        text-align: right;\n",
       "    }\n",
       "</style>\n",
       "<table border=\"1\" class=\"dataframe\">\n",
       "  <thead>\n",
       "    <tr style=\"text-align: right;\">\n",
       "      <th></th>\n",
       "      <th>player_name</th>\n",
       "      <th>win</th>\n",
       "      <th>lost</th>\n",
       "    </tr>\n",
       "  </thead>\n",
       "  <tbody>\n",
       "    <tr>\n",
       "      <th>0</th>\n",
       "      <td>A D'Orsongna</td>\n",
       "      <td>NaN</td>\n",
       "      <td>1.000000</td>\n",
       "    </tr>\n",
       "    <tr>\n",
       "      <th>1</th>\n",
       "      <td>A Difrancesco</td>\n",
       "      <td>NaN</td>\n",
       "      <td>1.000000</td>\n",
       "    </tr>\n",
       "    <tr>\n",
       "      <th>2</th>\n",
       "      <td>A El Ghani</td>\n",
       "      <td>NaN</td>\n",
       "      <td>1.000000</td>\n",
       "    </tr>\n",
       "    <tr>\n",
       "      <th>3</th>\n",
       "      <td>A Ferguson</td>\n",
       "      <td>1.0</td>\n",
       "      <td>1.000000</td>\n",
       "    </tr>\n",
       "    <tr>\n",
       "      <th>4</th>\n",
       "      <td>A Fine</td>\n",
       "      <td>NaN</td>\n",
       "      <td>1.000000</td>\n",
       "    </tr>\n",
       "    <tr>\n",
       "      <th>...</th>\n",
       "      <td>...</td>\n",
       "      <td>...</td>\n",
       "      <td>...</td>\n",
       "    </tr>\n",
       "    <tr>\n",
       "      <th>4834</th>\n",
       "      <td>Zizou Bergs</td>\n",
       "      <td>2.0</td>\n",
       "      <td>3.000000</td>\n",
       "    </tr>\n",
       "    <tr>\n",
       "      <th>4835</th>\n",
       "      <td>Zlatko Ivancic</td>\n",
       "      <td>NaN</td>\n",
       "      <td>9.000000</td>\n",
       "    </tr>\n",
       "    <tr>\n",
       "      <th>4836</th>\n",
       "      <td>Zoltan Ilin</td>\n",
       "      <td>NaN</td>\n",
       "      <td>4.000000</td>\n",
       "    </tr>\n",
       "    <tr>\n",
       "      <th>4837</th>\n",
       "      <td>Zoltan Kuharszky</td>\n",
       "      <td>43.0</td>\n",
       "      <td>72.013889</td>\n",
       "    </tr>\n",
       "    <tr>\n",
       "      <th>4838</th>\n",
       "      <td>Zsombor Piros</td>\n",
       "      <td>NaN</td>\n",
       "      <td>1.000000</td>\n",
       "    </tr>\n",
       "  </tbody>\n",
       "</table>\n",
       "<p>4839 rows × 3 columns</p>\n",
       "</div>"
      ],
      "text/plain": [
       "           player_name   win       lost\n",
       "0         A D'Orsongna   NaN   1.000000\n",
       "1        A Difrancesco   NaN   1.000000\n",
       "2           A El Ghani   NaN   1.000000\n",
       "3           A Ferguson   1.0   1.000000\n",
       "4               A Fine   NaN   1.000000\n",
       "...                ...   ...        ...\n",
       "4834       Zizou Bergs   2.0   3.000000\n",
       "4835    Zlatko Ivancic   NaN   9.000000\n",
       "4836       Zoltan Ilin   NaN   4.000000\n",
       "4837  Zoltan Kuharszky  43.0  72.013889\n",
       "4838     Zsombor Piros   NaN   1.000000\n",
       "\n",
       "[4839 rows x 3 columns]"
      ]
     },
     "execution_count": 17,
     "metadata": {},
     "output_type": "execute_result"
    }
   ],
   "source": [
    "df_final"
   ]
  },
  {
   "cell_type": "code",
   "execution_count": 18,
   "id": "25fe8f4a",
   "metadata": {},
   "outputs": [],
   "source": [
    "df_final.fillna(0, inplace=True)"
   ]
  },
  {
   "cell_type": "code",
   "execution_count": 19,
   "id": "3f683044",
   "metadata": {},
   "outputs": [
    {
     "data": {
      "text/plain": [
       "player_name    0\n",
       "win            0\n",
       "lost           0\n",
       "dtype: int64"
      ]
     },
     "execution_count": 19,
     "metadata": {},
     "output_type": "execute_result"
    }
   ],
   "source": [
    "df_final.isnull().sum()"
   ]
  },
  {
   "cell_type": "code",
   "execution_count": 20,
   "id": "92b2527c",
   "metadata": {},
   "outputs": [],
   "source": [
    "df_final['match_played'] = df_final['win'] + df_final['lost']"
   ]
  },
  {
   "cell_type": "code",
   "execution_count": 21,
   "id": "5bc56c00",
   "metadata": {},
   "outputs": [],
   "source": [
    "df_final['total_win_percentage'] = df_final['win']/df_final['match_played']"
   ]
  },
  {
   "cell_type": "code",
   "execution_count": 22,
   "id": "31063d7b",
   "metadata": {},
   "outputs": [],
   "source": [
    "df_final['total_lost_percentage'] = df_final['lost']/df_final['match_played']"
   ]
  },
  {
   "cell_type": "code",
   "execution_count": 23,
   "id": "766312e4",
   "metadata": {},
   "outputs": [
    {
     "data": {
      "text/html": [
       "<div>\n",
       "<style scoped>\n",
       "    .dataframe tbody tr th:only-of-type {\n",
       "        vertical-align: middle;\n",
       "    }\n",
       "\n",
       "    .dataframe tbody tr th {\n",
       "        vertical-align: top;\n",
       "    }\n",
       "\n",
       "    .dataframe thead th {\n",
       "        text-align: right;\n",
       "    }\n",
       "</style>\n",
       "<table border=\"1\" class=\"dataframe\">\n",
       "  <thead>\n",
       "    <tr style=\"text-align: right;\">\n",
       "      <th></th>\n",
       "      <th>player_name</th>\n",
       "      <th>win</th>\n",
       "      <th>lost</th>\n",
       "      <th>match_played</th>\n",
       "      <th>total_win_percentage</th>\n",
       "      <th>total_lost_percentage</th>\n",
       "    </tr>\n",
       "  </thead>\n",
       "  <tbody>\n",
       "    <tr>\n",
       "      <th>3969</th>\n",
       "      <td>Roger Federer</td>\n",
       "      <td>1219.0</td>\n",
       "      <td>272.0</td>\n",
       "      <td>1491.0</td>\n",
       "      <td>0.817572</td>\n",
       "      <td>0.182428</td>\n",
       "    </tr>\n",
       "  </tbody>\n",
       "</table>\n",
       "</div>"
      ],
      "text/plain": [
       "        player_name     win   lost  match_played  total_win_percentage  \\\n",
       "3969  Roger Federer  1219.0  272.0        1491.0              0.817572   \n",
       "\n",
       "      total_lost_percentage  \n",
       "3969               0.182428  "
      ]
     },
     "execution_count": 23,
     "metadata": {},
     "output_type": "execute_result"
    }
   ],
   "source": [
    "df_final[df_final['player_name'] == 'Roger Federer']"
   ]
  },
  {
   "cell_type": "code",
   "execution_count": 24,
   "id": "cacf9f59",
   "metadata": {},
   "outputs": [],
   "source": [
    "df_final.to_csv('./data/atp/Total.csv')"
   ]
  },
  {
   "cell_type": "code",
   "execution_count": 25,
   "id": "82815579",
   "metadata": {},
   "outputs": [],
   "source": [
    "df_final = pd.read_csv('./data/atp/Total.csv')"
   ]
  },
  {
   "cell_type": "code",
   "execution_count": 26,
   "id": "f9a0edaa",
   "metadata": {},
   "outputs": [
    {
     "data": {
      "text/html": [
       "<div>\n",
       "<style scoped>\n",
       "    .dataframe tbody tr th:only-of-type {\n",
       "        vertical-align: middle;\n",
       "    }\n",
       "\n",
       "    .dataframe tbody tr th {\n",
       "        vertical-align: top;\n",
       "    }\n",
       "\n",
       "    .dataframe thead th {\n",
       "        text-align: right;\n",
       "    }\n",
       "</style>\n",
       "<table border=\"1\" class=\"dataframe\">\n",
       "  <thead>\n",
       "    <tr style=\"text-align: right;\">\n",
       "      <th></th>\n",
       "      <th>Unnamed: 0</th>\n",
       "      <th>player_name</th>\n",
       "      <th>win</th>\n",
       "      <th>lost</th>\n",
       "      <th>match_played</th>\n",
       "      <th>total_win_percentage</th>\n",
       "      <th>total_lost_percentage</th>\n",
       "    </tr>\n",
       "  </thead>\n",
       "  <tbody>\n",
       "    <tr>\n",
       "      <th>0</th>\n",
       "      <td>0</td>\n",
       "      <td>A D'Orsongna</td>\n",
       "      <td>0.0</td>\n",
       "      <td>1.000000</td>\n",
       "      <td>1.000000</td>\n",
       "      <td>0.000000</td>\n",
       "      <td>1.000000</td>\n",
       "    </tr>\n",
       "    <tr>\n",
       "      <th>1</th>\n",
       "      <td>1</td>\n",
       "      <td>A Difrancesco</td>\n",
       "      <td>0.0</td>\n",
       "      <td>1.000000</td>\n",
       "      <td>1.000000</td>\n",
       "      <td>0.000000</td>\n",
       "      <td>1.000000</td>\n",
       "    </tr>\n",
       "    <tr>\n",
       "      <th>2</th>\n",
       "      <td>2</td>\n",
       "      <td>A El Ghani</td>\n",
       "      <td>0.0</td>\n",
       "      <td>1.000000</td>\n",
       "      <td>1.000000</td>\n",
       "      <td>0.000000</td>\n",
       "      <td>1.000000</td>\n",
       "    </tr>\n",
       "    <tr>\n",
       "      <th>3</th>\n",
       "      <td>3</td>\n",
       "      <td>A Ferguson</td>\n",
       "      <td>1.0</td>\n",
       "      <td>1.000000</td>\n",
       "      <td>2.000000</td>\n",
       "      <td>0.500000</td>\n",
       "      <td>0.500000</td>\n",
       "    </tr>\n",
       "    <tr>\n",
       "      <th>4</th>\n",
       "      <td>4</td>\n",
       "      <td>A Fine</td>\n",
       "      <td>0.0</td>\n",
       "      <td>1.000000</td>\n",
       "      <td>1.000000</td>\n",
       "      <td>0.000000</td>\n",
       "      <td>1.000000</td>\n",
       "    </tr>\n",
       "    <tr>\n",
       "      <th>...</th>\n",
       "      <td>...</td>\n",
       "      <td>...</td>\n",
       "      <td>...</td>\n",
       "      <td>...</td>\n",
       "      <td>...</td>\n",
       "      <td>...</td>\n",
       "      <td>...</td>\n",
       "    </tr>\n",
       "    <tr>\n",
       "      <th>4834</th>\n",
       "      <td>4834</td>\n",
       "      <td>Zizou Bergs</td>\n",
       "      <td>2.0</td>\n",
       "      <td>3.000000</td>\n",
       "      <td>5.000000</td>\n",
       "      <td>0.400000</td>\n",
       "      <td>0.600000</td>\n",
       "    </tr>\n",
       "    <tr>\n",
       "      <th>4835</th>\n",
       "      <td>4835</td>\n",
       "      <td>Zlatko Ivancic</td>\n",
       "      <td>0.0</td>\n",
       "      <td>9.000000</td>\n",
       "      <td>9.000000</td>\n",
       "      <td>0.000000</td>\n",
       "      <td>1.000000</td>\n",
       "    </tr>\n",
       "    <tr>\n",
       "      <th>4836</th>\n",
       "      <td>4836</td>\n",
       "      <td>Zoltan Ilin</td>\n",
       "      <td>0.0</td>\n",
       "      <td>4.000000</td>\n",
       "      <td>4.000000</td>\n",
       "      <td>0.000000</td>\n",
       "      <td>1.000000</td>\n",
       "    </tr>\n",
       "    <tr>\n",
       "      <th>4837</th>\n",
       "      <td>4837</td>\n",
       "      <td>Zoltan Kuharszky</td>\n",
       "      <td>43.0</td>\n",
       "      <td>72.013889</td>\n",
       "      <td>115.013889</td>\n",
       "      <td>0.373868</td>\n",
       "      <td>0.626132</td>\n",
       "    </tr>\n",
       "    <tr>\n",
       "      <th>4838</th>\n",
       "      <td>4838</td>\n",
       "      <td>Zsombor Piros</td>\n",
       "      <td>0.0</td>\n",
       "      <td>1.000000</td>\n",
       "      <td>1.000000</td>\n",
       "      <td>0.000000</td>\n",
       "      <td>1.000000</td>\n",
       "    </tr>\n",
       "  </tbody>\n",
       "</table>\n",
       "<p>4839 rows × 7 columns</p>\n",
       "</div>"
      ],
      "text/plain": [
       "      Unnamed: 0       player_name   win       lost  match_played  \\\n",
       "0              0      A D'Orsongna   0.0   1.000000      1.000000   \n",
       "1              1     A Difrancesco   0.0   1.000000      1.000000   \n",
       "2              2        A El Ghani   0.0   1.000000      1.000000   \n",
       "3              3        A Ferguson   1.0   1.000000      2.000000   \n",
       "4              4            A Fine   0.0   1.000000      1.000000   \n",
       "...          ...               ...   ...        ...           ...   \n",
       "4834        4834       Zizou Bergs   2.0   3.000000      5.000000   \n",
       "4835        4835    Zlatko Ivancic   0.0   9.000000      9.000000   \n",
       "4836        4836       Zoltan Ilin   0.0   4.000000      4.000000   \n",
       "4837        4837  Zoltan Kuharszky  43.0  72.013889    115.013889   \n",
       "4838        4838     Zsombor Piros   0.0   1.000000      1.000000   \n",
       "\n",
       "      total_win_percentage  total_lost_percentage  \n",
       "0                 0.000000               1.000000  \n",
       "1                 0.000000               1.000000  \n",
       "2                 0.000000               1.000000  \n",
       "3                 0.500000               0.500000  \n",
       "4                 0.000000               1.000000  \n",
       "...                    ...                    ...  \n",
       "4834              0.400000               0.600000  \n",
       "4835              0.000000               1.000000  \n",
       "4836              0.000000               1.000000  \n",
       "4837              0.373868               0.626132  \n",
       "4838              0.000000               1.000000  \n",
       "\n",
       "[4839 rows x 7 columns]"
      ]
     },
     "execution_count": 26,
     "metadata": {},
     "output_type": "execute_result"
    }
   ],
   "source": [
    "df_final"
   ]
  },
  {
   "cell_type": "code",
   "execution_count": null,
   "id": "3bef652e",
   "metadata": {},
   "outputs": [],
   "source": []
  }
 ],
 "metadata": {
  "kernelspec": {
   "display_name": "Python 3 (ipykernel)",
   "language": "python",
   "name": "python3"
  },
  "language_info": {
   "codemirror_mode": {
    "name": "ipython",
    "version": 3
   },
   "file_extension": ".py",
   "mimetype": "text/x-python",
   "name": "python",
   "nbconvert_exporter": "python",
   "pygments_lexer": "ipython3",
   "version": "3.9.7"
  }
 },
 "nbformat": 4,
 "nbformat_minor": 5
}
