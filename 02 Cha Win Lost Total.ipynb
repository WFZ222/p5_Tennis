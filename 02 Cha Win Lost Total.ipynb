{
 "cells": [
  {
   "cell_type": "code",
   "execution_count": 1,
   "id": "7fb91150",
   "metadata": {},
   "outputs": [],
   "source": [
    "import pandas as pd"
   ]
  },
  {
   "cell_type": "code",
   "execution_count": 2,
   "id": "33582e57",
   "metadata": {},
   "outputs": [],
   "source": [
    "df_cw = pd.read_csv('./data/challengers/win.csv')\n",
    "df_cl = pd.read_csv('./data/challengers/lost.csv')"
   ]
  },
  {
   "cell_type": "code",
   "execution_count": 3,
   "id": "4244aeba",
   "metadata": {},
   "outputs": [],
   "source": [
    "# change all '_name' columns to 'player_name'\n",
    "df_cw = df_cw.rename(columns={'winner_name': 'player_name'})\n",
    "df_cl = df_cl.rename(columns={'loser_name': 'player_name'})"
   ]
  },
  {
   "cell_type": "markdown",
   "id": "dad2124b",
   "metadata": {},
   "source": [
    "### Total Tour Win"
   ]
  },
  {
   "cell_type": "code",
   "execution_count": 4,
   "id": "d8cd9762",
   "metadata": {},
   "outputs": [
    {
     "data": {
      "text/plain": [
       "((5286, 1999), (9316, 1999))"
      ]
     },
     "execution_count": 4,
     "metadata": {},
     "output_type": "execute_result"
    }
   ],
   "source": [
    "df_cw.shape, df_cl.shape"
   ]
  },
  {
   "cell_type": "code",
   "execution_count": 5,
   "id": "13ace6cc",
   "metadata": {},
   "outputs": [],
   "source": [
    "df_a_total = pd.DataFrame() # create empty dataframe"
   ]
  },
  {
   "cell_type": "code",
   "execution_count": 6,
   "id": "0fffcf96",
   "metadata": {},
   "outputs": [],
   "source": [
    "df_a_total['player_name'] = df_cw['player_name']"
   ]
  },
  {
   "cell_type": "code",
   "execution_count": 7,
   "id": "f3330ef4",
   "metadata": {},
   "outputs": [
    {
     "name": "stderr",
     "output_type": "stream",
     "text": [
      "C:\\Users\\Henry\\AppData\\Local\\Temp/ipykernel_173076/1286393794.py:3: PerformanceWarning: DataFrame is highly fragmented.  This is usually the result of calling `frame.insert` many times, which has poor performance.  Consider joining all columns at once using pd.concat(axis=1) instead.  To get a de-fragmented frame, use `newframe = frame.copy()`\n",
      "  df_a_total[i] = df_cw[i]\n"
     ]
    }
   ],
   "source": [
    "for i in df_cw.columns:\n",
    "    if ('surface' not in i) & ('sum' in i):\n",
    "        df_a_total[i] = df_cw[i]"
   ]
  },
  {
   "cell_type": "code",
   "execution_count": 8,
   "id": "481220bc",
   "metadata": {},
   "outputs": [
    {
     "name": "stderr",
     "output_type": "stream",
     "text": [
      "C:\\Users\\Henry\\AppData\\Local\\Temp/ipykernel_173076/368061925.py:1: FutureWarning: Dropping of nuisance columns in DataFrame reductions (with 'numeric_only=None') is deprecated; in a future version this will raise TypeError.  Select only valid columns before calling the reduction.\n",
      "  df_a_total['win'] = df_a_total.sum(axis=1)\n"
     ]
    }
   ],
   "source": [
    "df_a_total['win'] = df_a_total.sum(axis=1)"
   ]
  },
  {
   "cell_type": "code",
   "execution_count": 9,
   "id": "f954a39f",
   "metadata": {},
   "outputs": [],
   "source": [
    "df_final = pd.DataFrame()"
   ]
  },
  {
   "cell_type": "code",
   "execution_count": 10,
   "id": "8e06819f",
   "metadata": {},
   "outputs": [],
   "source": [
    "df_final['player_name'] = df_cl['player_name']"
   ]
  },
  {
   "cell_type": "code",
   "execution_count": 11,
   "id": "540ca821",
   "metadata": {},
   "outputs": [],
   "source": [
    "df_final = pd.merge(df_final, df_a_total[['player_name', 'win']], on='player_name', how='left')"
   ]
  },
  {
   "cell_type": "markdown",
   "id": "e276785d",
   "metadata": {},
   "source": [
    "### Total Tour Lost"
   ]
  },
  {
   "cell_type": "code",
   "execution_count": 12,
   "id": "ad78d5ef",
   "metadata": {},
   "outputs": [],
   "source": [
    "df_b_total = pd.DataFrame() # create empty dataframe"
   ]
  },
  {
   "cell_type": "code",
   "execution_count": 13,
   "id": "fc370f0e",
   "metadata": {},
   "outputs": [],
   "source": [
    "df_b_total['player_name'] = df_cl['player_name']"
   ]
  },
  {
   "cell_type": "code",
   "execution_count": 14,
   "id": "6f01d949",
   "metadata": {
    "scrolled": true
   },
   "outputs": [
    {
     "name": "stderr",
     "output_type": "stream",
     "text": [
      "C:\\Users\\Henry\\AppData\\Local\\Temp/ipykernel_173076/817976773.py:3: PerformanceWarning: DataFrame is highly fragmented.  This is usually the result of calling `frame.insert` many times, which has poor performance.  Consider joining all columns at once using pd.concat(axis=1) instead.  To get a de-fragmented frame, use `newframe = frame.copy()`\n",
      "  df_b_total[i] = df_cl[i]\n"
     ]
    }
   ],
   "source": [
    "for i in df_cl.columns:\n",
    "        if ('surface' not in i) and ('sum' in i):\n",
    "            df_b_total[i] = df_cl[i]"
   ]
  },
  {
   "cell_type": "code",
   "execution_count": 15,
   "id": "4f63100c",
   "metadata": {},
   "outputs": [
    {
     "name": "stderr",
     "output_type": "stream",
     "text": [
      "C:\\Users\\Henry\\AppData\\Local\\Temp/ipykernel_173076/3844482385.py:1: FutureWarning: Dropping of nuisance columns in DataFrame reductions (with 'numeric_only=None') is deprecated; in a future version this will raise TypeError.  Select only valid columns before calling the reduction.\n",
      "  df_b_total['lost'] = df_b_total.sum(axis=1)\n"
     ]
    }
   ],
   "source": [
    "df_b_total['lost'] = df_b_total.sum(axis=1)"
   ]
  },
  {
   "cell_type": "code",
   "execution_count": 16,
   "id": "78f7ff48",
   "metadata": {},
   "outputs": [],
   "source": [
    "df_final = pd.merge(df_final, df_b_total[['player_name', 'lost']], on='player_name', how='left')"
   ]
  },
  {
   "cell_type": "markdown",
   "id": "a3bd4714",
   "metadata": {},
   "source": [
    "### Total Match played and avg win"
   ]
  },
  {
   "cell_type": "code",
   "execution_count": 17,
   "id": "5d7e2dd0",
   "metadata": {
    "scrolled": false
   },
   "outputs": [
    {
     "data": {
      "text/html": [
       "<div>\n",
       "<style scoped>\n",
       "    .dataframe tbody tr th:only-of-type {\n",
       "        vertical-align: middle;\n",
       "    }\n",
       "\n",
       "    .dataframe tbody tr th {\n",
       "        vertical-align: top;\n",
       "    }\n",
       "\n",
       "    .dataframe thead th {\n",
       "        text-align: right;\n",
       "    }\n",
       "</style>\n",
       "<table border=\"1\" class=\"dataframe\">\n",
       "  <thead>\n",
       "    <tr style=\"text-align: right;\">\n",
       "      <th></th>\n",
       "      <th>player_name</th>\n",
       "      <th>win</th>\n",
       "      <th>lost</th>\n",
       "    </tr>\n",
       "  </thead>\n",
       "  <tbody>\n",
       "    <tr>\n",
       "      <th>0</th>\n",
       "      <td>A Aguilar</td>\n",
       "      <td>1.0</td>\n",
       "      <td>2.0</td>\n",
       "    </tr>\n",
       "    <tr>\n",
       "      <th>1</th>\n",
       "      <td>A Benson</td>\n",
       "      <td>1.0</td>\n",
       "      <td>1.0</td>\n",
       "    </tr>\n",
       "    <tr>\n",
       "      <th>2</th>\n",
       "      <td>A Caulfield</td>\n",
       "      <td>NaN</td>\n",
       "      <td>1.0</td>\n",
       "    </tr>\n",
       "    <tr>\n",
       "      <th>3</th>\n",
       "      <td>A Hall</td>\n",
       "      <td>NaN</td>\n",
       "      <td>1.0</td>\n",
       "    </tr>\n",
       "    <tr>\n",
       "      <th>4</th>\n",
       "      <td>A Hernandez</td>\n",
       "      <td>NaN</td>\n",
       "      <td>2.0</td>\n",
       "    </tr>\n",
       "    <tr>\n",
       "      <th>...</th>\n",
       "      <td>...</td>\n",
       "      <td>...</td>\n",
       "      <td>...</td>\n",
       "    </tr>\n",
       "    <tr>\n",
       "      <th>9311</th>\n",
       "      <td>Zoran Sevcenko</td>\n",
       "      <td>NaN</td>\n",
       "      <td>2.0</td>\n",
       "    </tr>\n",
       "    <tr>\n",
       "      <th>9312</th>\n",
       "      <td>Zsolt Fule</td>\n",
       "      <td>NaN</td>\n",
       "      <td>1.0</td>\n",
       "    </tr>\n",
       "    <tr>\n",
       "      <th>9313</th>\n",
       "      <td>Zsolt Tatar</td>\n",
       "      <td>2.0</td>\n",
       "      <td>2.0</td>\n",
       "    </tr>\n",
       "    <tr>\n",
       "      <th>9314</th>\n",
       "      <td>Zsombor Piros</td>\n",
       "      <td>53.0</td>\n",
       "      <td>40.0</td>\n",
       "    </tr>\n",
       "    <tr>\n",
       "      <th>9315</th>\n",
       "      <td>Zvonimir Oreskovic</td>\n",
       "      <td>NaN</td>\n",
       "      <td>1.0</td>\n",
       "    </tr>\n",
       "  </tbody>\n",
       "</table>\n",
       "<p>9316 rows × 3 columns</p>\n",
       "</div>"
      ],
      "text/plain": [
       "             player_name   win  lost\n",
       "0              A Aguilar   1.0   2.0\n",
       "1               A Benson   1.0   1.0\n",
       "2            A Caulfield   NaN   1.0\n",
       "3                 A Hall   NaN   1.0\n",
       "4            A Hernandez   NaN   2.0\n",
       "...                  ...   ...   ...\n",
       "9311      Zoran Sevcenko   NaN   2.0\n",
       "9312          Zsolt Fule   NaN   1.0\n",
       "9313         Zsolt Tatar   2.0   2.0\n",
       "9314       Zsombor Piros  53.0  40.0\n",
       "9315  Zvonimir Oreskovic   NaN   1.0\n",
       "\n",
       "[9316 rows x 3 columns]"
      ]
     },
     "execution_count": 17,
     "metadata": {},
     "output_type": "execute_result"
    }
   ],
   "source": [
    "df_final"
   ]
  },
  {
   "cell_type": "code",
   "execution_count": 18,
   "id": "1b7b828f",
   "metadata": {},
   "outputs": [],
   "source": [
    "df_final.fillna(0, inplace=True)"
   ]
  },
  {
   "cell_type": "code",
   "execution_count": 19,
   "id": "9c15e4d0",
   "metadata": {},
   "outputs": [
    {
     "data": {
      "text/plain": [
       "player_name    0\n",
       "win            0\n",
       "lost           0\n",
       "dtype: int64"
      ]
     },
     "execution_count": 19,
     "metadata": {},
     "output_type": "execute_result"
    }
   ],
   "source": [
    "df_final.isnull().sum()"
   ]
  },
  {
   "cell_type": "code",
   "execution_count": 20,
   "id": "e493b360",
   "metadata": {},
   "outputs": [],
   "source": [
    "df_final['match_played'] = df_final['win'] + df_final['lost']"
   ]
  },
  {
   "cell_type": "code",
   "execution_count": 21,
   "id": "9a4bb1b7",
   "metadata": {},
   "outputs": [],
   "source": [
    "df_final['total_win_percentage'] = df_final['win']/df_final['match_played']"
   ]
  },
  {
   "cell_type": "code",
   "execution_count": 22,
   "id": "bbfb94a9",
   "metadata": {},
   "outputs": [],
   "source": [
    "df_final['total_lost_percentage'] = df_final['lost']/df_final['match_played']"
   ]
  },
  {
   "cell_type": "code",
   "execution_count": 23,
   "id": "5f855af8",
   "metadata": {},
   "outputs": [
    {
     "data": {
      "text/html": [
       "<div>\n",
       "<style scoped>\n",
       "    .dataframe tbody tr th:only-of-type {\n",
       "        vertical-align: middle;\n",
       "    }\n",
       "\n",
       "    .dataframe tbody tr th {\n",
       "        vertical-align: top;\n",
       "    }\n",
       "\n",
       "    .dataframe thead th {\n",
       "        text-align: right;\n",
       "    }\n",
       "</style>\n",
       "<table border=\"1\" class=\"dataframe\">\n",
       "  <thead>\n",
       "    <tr style=\"text-align: right;\">\n",
       "      <th></th>\n",
       "      <th>player_name</th>\n",
       "      <th>win</th>\n",
       "      <th>lost</th>\n",
       "      <th>match_played</th>\n",
       "      <th>total_win_percentage</th>\n",
       "      <th>total_lost_percentage</th>\n",
       "    </tr>\n",
       "  </thead>\n",
       "  <tbody>\n",
       "    <tr>\n",
       "      <th>7612</th>\n",
       "      <td>Roger Federer</td>\n",
       "      <td>16.0</td>\n",
       "      <td>7.0</td>\n",
       "      <td>23.0</td>\n",
       "      <td>0.695652</td>\n",
       "      <td>0.304348</td>\n",
       "    </tr>\n",
       "  </tbody>\n",
       "</table>\n",
       "</div>"
      ],
      "text/plain": [
       "        player_name   win  lost  match_played  total_win_percentage  \\\n",
       "7612  Roger Federer  16.0   7.0          23.0              0.695652   \n",
       "\n",
       "      total_lost_percentage  \n",
       "7612               0.304348  "
      ]
     },
     "execution_count": 23,
     "metadata": {},
     "output_type": "execute_result"
    }
   ],
   "source": [
    "df_final[df_final['player_name'] == 'Roger Federer']"
   ]
  },
  {
   "cell_type": "code",
   "execution_count": 24,
   "id": "e6e47335",
   "metadata": {},
   "outputs": [],
   "source": [
    "df_final.to_csv('./data/challengers/Total.csv')"
   ]
  },
  {
   "cell_type": "code",
   "execution_count": 25,
   "id": "3d30e9c9",
   "metadata": {},
   "outputs": [],
   "source": [
    "df_final = pd.read_csv('./data/challengers/Total.csv')"
   ]
  },
  {
   "cell_type": "code",
   "execution_count": 26,
   "id": "30ecff22",
   "metadata": {},
   "outputs": [
    {
     "data": {
      "text/html": [
       "<div>\n",
       "<style scoped>\n",
       "    .dataframe tbody tr th:only-of-type {\n",
       "        vertical-align: middle;\n",
       "    }\n",
       "\n",
       "    .dataframe tbody tr th {\n",
       "        vertical-align: top;\n",
       "    }\n",
       "\n",
       "    .dataframe thead th {\n",
       "        text-align: right;\n",
       "    }\n",
       "</style>\n",
       "<table border=\"1\" class=\"dataframe\">\n",
       "  <thead>\n",
       "    <tr style=\"text-align: right;\">\n",
       "      <th></th>\n",
       "      <th>Unnamed: 0</th>\n",
       "      <th>player_name</th>\n",
       "      <th>win</th>\n",
       "      <th>lost</th>\n",
       "      <th>match_played</th>\n",
       "      <th>total_win_percentage</th>\n",
       "      <th>total_lost_percentage</th>\n",
       "    </tr>\n",
       "  </thead>\n",
       "  <tbody>\n",
       "    <tr>\n",
       "      <th>0</th>\n",
       "      <td>0</td>\n",
       "      <td>A Aguilar</td>\n",
       "      <td>1.0</td>\n",
       "      <td>2.0</td>\n",
       "      <td>3.0</td>\n",
       "      <td>0.333333</td>\n",
       "      <td>0.666667</td>\n",
       "    </tr>\n",
       "    <tr>\n",
       "      <th>1</th>\n",
       "      <td>1</td>\n",
       "      <td>A Benson</td>\n",
       "      <td>1.0</td>\n",
       "      <td>1.0</td>\n",
       "      <td>2.0</td>\n",
       "      <td>0.500000</td>\n",
       "      <td>0.500000</td>\n",
       "    </tr>\n",
       "    <tr>\n",
       "      <th>2</th>\n",
       "      <td>2</td>\n",
       "      <td>A Caulfield</td>\n",
       "      <td>0.0</td>\n",
       "      <td>1.0</td>\n",
       "      <td>1.0</td>\n",
       "      <td>0.000000</td>\n",
       "      <td>1.000000</td>\n",
       "    </tr>\n",
       "    <tr>\n",
       "      <th>3</th>\n",
       "      <td>3</td>\n",
       "      <td>A Hall</td>\n",
       "      <td>0.0</td>\n",
       "      <td>1.0</td>\n",
       "      <td>1.0</td>\n",
       "      <td>0.000000</td>\n",
       "      <td>1.000000</td>\n",
       "    </tr>\n",
       "    <tr>\n",
       "      <th>4</th>\n",
       "      <td>4</td>\n",
       "      <td>A Hernandez</td>\n",
       "      <td>0.0</td>\n",
       "      <td>2.0</td>\n",
       "      <td>2.0</td>\n",
       "      <td>0.000000</td>\n",
       "      <td>1.000000</td>\n",
       "    </tr>\n",
       "    <tr>\n",
       "      <th>...</th>\n",
       "      <td>...</td>\n",
       "      <td>...</td>\n",
       "      <td>...</td>\n",
       "      <td>...</td>\n",
       "      <td>...</td>\n",
       "      <td>...</td>\n",
       "      <td>...</td>\n",
       "    </tr>\n",
       "    <tr>\n",
       "      <th>9311</th>\n",
       "      <td>9311</td>\n",
       "      <td>Zoran Sevcenko</td>\n",
       "      <td>0.0</td>\n",
       "      <td>2.0</td>\n",
       "      <td>2.0</td>\n",
       "      <td>0.000000</td>\n",
       "      <td>1.000000</td>\n",
       "    </tr>\n",
       "    <tr>\n",
       "      <th>9312</th>\n",
       "      <td>9312</td>\n",
       "      <td>Zsolt Fule</td>\n",
       "      <td>0.0</td>\n",
       "      <td>1.0</td>\n",
       "      <td>1.0</td>\n",
       "      <td>0.000000</td>\n",
       "      <td>1.000000</td>\n",
       "    </tr>\n",
       "    <tr>\n",
       "      <th>9313</th>\n",
       "      <td>9313</td>\n",
       "      <td>Zsolt Tatar</td>\n",
       "      <td>2.0</td>\n",
       "      <td>2.0</td>\n",
       "      <td>4.0</td>\n",
       "      <td>0.500000</td>\n",
       "      <td>0.500000</td>\n",
       "    </tr>\n",
       "    <tr>\n",
       "      <th>9314</th>\n",
       "      <td>9314</td>\n",
       "      <td>Zsombor Piros</td>\n",
       "      <td>53.0</td>\n",
       "      <td>40.0</td>\n",
       "      <td>93.0</td>\n",
       "      <td>0.569892</td>\n",
       "      <td>0.430108</td>\n",
       "    </tr>\n",
       "    <tr>\n",
       "      <th>9315</th>\n",
       "      <td>9315</td>\n",
       "      <td>Zvonimir Oreskovic</td>\n",
       "      <td>0.0</td>\n",
       "      <td>1.0</td>\n",
       "      <td>1.0</td>\n",
       "      <td>0.000000</td>\n",
       "      <td>1.000000</td>\n",
       "    </tr>\n",
       "  </tbody>\n",
       "</table>\n",
       "<p>9316 rows × 7 columns</p>\n",
       "</div>"
      ],
      "text/plain": [
       "      Unnamed: 0         player_name   win  lost  match_played  \\\n",
       "0              0           A Aguilar   1.0   2.0           3.0   \n",
       "1              1            A Benson   1.0   1.0           2.0   \n",
       "2              2         A Caulfield   0.0   1.0           1.0   \n",
       "3              3              A Hall   0.0   1.0           1.0   \n",
       "4              4         A Hernandez   0.0   2.0           2.0   \n",
       "...          ...                 ...   ...   ...           ...   \n",
       "9311        9311      Zoran Sevcenko   0.0   2.0           2.0   \n",
       "9312        9312          Zsolt Fule   0.0   1.0           1.0   \n",
       "9313        9313         Zsolt Tatar   2.0   2.0           4.0   \n",
       "9314        9314       Zsombor Piros  53.0  40.0          93.0   \n",
       "9315        9315  Zvonimir Oreskovic   0.0   1.0           1.0   \n",
       "\n",
       "      total_win_percentage  total_lost_percentage  \n",
       "0                 0.333333               0.666667  \n",
       "1                 0.500000               0.500000  \n",
       "2                 0.000000               1.000000  \n",
       "3                 0.000000               1.000000  \n",
       "4                 0.000000               1.000000  \n",
       "...                    ...                    ...  \n",
       "9311              0.000000               1.000000  \n",
       "9312              0.000000               1.000000  \n",
       "9313              0.500000               0.500000  \n",
       "9314              0.569892               0.430108  \n",
       "9315              0.000000               1.000000  \n",
       "\n",
       "[9316 rows x 7 columns]"
      ]
     },
     "execution_count": 26,
     "metadata": {},
     "output_type": "execute_result"
    }
   ],
   "source": [
    "df_final "
   ]
  },
  {
   "cell_type": "code",
   "execution_count": null,
   "id": "14b90123",
   "metadata": {},
   "outputs": [],
   "source": []
  }
 ],
 "metadata": {
  "kernelspec": {
   "display_name": "Python 3 (ipykernel)",
   "language": "python",
   "name": "python3"
  },
  "language_info": {
   "codemirror_mode": {
    "name": "ipython",
    "version": 3
   },
   "file_extension": ".py",
   "mimetype": "text/x-python",
   "name": "python",
   "nbconvert_exporter": "python",
   "pygments_lexer": "ipython3",
   "version": "3.9.7"
  }
 },
 "nbformat": 4,
 "nbformat_minor": 5
}
